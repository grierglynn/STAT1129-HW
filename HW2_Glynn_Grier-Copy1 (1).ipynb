{
 "cells": [
  {
   "cell_type": "code",
   "execution_count": 1,
   "id": "47a6e656",
   "metadata": {},
   "outputs": [
    {
     "name": "stdout",
     "output_type": "stream",
     "text": [
      "0\n",
      "1\n",
      "2\n",
      "3\n",
      "4\n"
     ]
    }
   ],
   "source": [
    "n=0\n",
    "while n<10:\n",
    "    print(n)\n",
    "    n=n+1\n",
    "    if n>=5:\n",
    "        break\n"
   ]
  },
  {
   "cell_type": "code",
   "execution_count": 2,
   "id": "1b8c037a",
   "metadata": {},
   "outputs": [
    {
     "name": "stdout",
     "output_type": "stream",
     "text": [
      "0\n",
      "1\n",
      "2\n",
      "3\n",
      "4\n",
      "5 is not less than 5\n"
     ]
    }
   ],
   "source": [
    "n=0\n",
    "while n<5:\n",
    "    print(n)\n",
    "    n=n+1\n",
    "    if n>=5:\n",
    "        print(n,  \"is not less than 5\")\n",
    "        break"
   ]
  },
  {
   "cell_type": "code",
   "execution_count": 4,
   "id": "0a99094f",
   "metadata": {},
   "outputs": [
    {
     "name": "stdout",
     "output_type": "stream",
     "text": [
      "I like  cherry\n",
      "I like  banana\n",
      "is apple a fruit?\n"
     ]
    }
   ],
   "source": [
    "fruits= [\"cherry\", \"banana\", \"apple\"]\n",
    "for x in fruits:\n",
    "    if x!= \"apple\":\n",
    "        print(\"I like \", x)\n",
    "    else:\n",
    "        print(\"is apple a fruit?\")"
   ]
  },
  {
   "cell_type": "code",
   "execution_count": 104,
   "id": "db290e9a",
   "metadata": {},
   "outputs": [
    {
     "name": "stdout",
     "output_type": "stream",
     "text": [
      "1\n",
      "2\n",
      "3\n",
      "4\n",
      "5\n",
      "6\n",
      "7\n",
      "8\n",
      "9\n",
      "10\n",
      "11\n",
      "12\n",
      "13\n",
      "14\n",
      "15\n",
      "16\n",
      "17\n",
      "18\n",
      "19\n",
      "20\n",
      "21\n",
      "22\n",
      "23\n",
      "24\n",
      "25\n",
      "26\n",
      "27\n",
      "28\n",
      "29\n",
      "30\n"
     ]
    },
    {
     "data": {
      "text/plain": [
       "435"
      ]
     },
     "execution_count": 104,
     "metadata": {},
     "output_type": "execute_result"
    }
   ],
   "source": [
    "x=0\n",
    "while x<= 30:\n",
    "    x=x+1\n",
    "    print(x)\n",
    "    if x>= 30:\n",
    "        break\n",
    "v= range(1,30)\n",
    "sum(v)"
   ]
  },
  {
   "cell_type": "code",
   "execution_count": 11,
   "id": "38f4a82c",
   "metadata": {},
   "outputs": [
    {
     "name": "stdout",
     "output_type": "stream",
     "text": [
      "b\n"
     ]
    }
   ],
   "source": [
    "grade= 89\n",
    "if grade>= 90:\n",
    "    print(\"a\")\n",
    "elif grade >=80:\n",
    "    print(\"b\")\n",
    "elif grade>=70:\n",
    "    print(\"c\")\n",
    "elif grade >= 60:\n",
    "    print(\"d\")\n",
    "else:\n",
    "    print(\"f\")"
   ]
  },
  {
   "cell_type": "code",
   "execution_count": 30,
   "id": "b3fc3c1e",
   "metadata": {},
   "outputs": [
    {
     "name": "stdout",
     "output_type": "stream",
     "text": [
      "Andy 88\n",
      "Amy 66\n",
      "James 90\n",
      "Jules 55\n",
      "Arthur 77\n"
     ]
    }
   ],
   "source": [
    "marks = {'Andy':88, 'Amy':66, 'James': 90, 'Jules': 55, 'Arthur': 77}\n",
    "for names, grades in marks.items():\n",
    "    print(names, grades)\n",
    "    "
   ]
  },
  {
   "cell_type": "code",
   "execution_count": 96,
   "id": "913d57f5",
   "metadata": {
    "scrolled": true
   },
   "outputs": [
    {
     "name": "stdout",
     "output_type": "stream",
     "text": [
      "88\n",
      "66\n",
      "90\n",
      "55\n",
      "77\n"
     ]
    },
    {
     "ename": "NameError",
     "evalue": "name 'maximum' is not defined",
     "output_type": "error",
     "traceback": [
      "\u001b[1;31m---------------------------------------------------------------------------\u001b[0m",
      "\u001b[1;31mNameError\u001b[0m                                 Traceback (most recent call last)",
      "Input \u001b[1;32mIn [96]\u001b[0m, in \u001b[0;36m<cell line: 4>\u001b[1;34m()\u001b[0m\n\u001b[0;32m      2\u001b[0m \u001b[38;5;28;01mfor\u001b[39;00m grade \u001b[38;5;129;01min\u001b[39;00m marks\u001b[38;5;241m.\u001b[39mvalues():\n\u001b[0;32m      3\u001b[0m     \u001b[38;5;28mprint\u001b[39m(grade)\n\u001b[1;32m----> 4\u001b[0m \u001b[43mmaximum\u001b[49m(\u001b[38;5;241m88\u001b[39m, \u001b[38;5;241m66\u001b[39m, \u001b[38;5;241m90\u001b[39m, \u001b[38;5;241m55\u001b[39m, \u001b[38;5;241m77\u001b[39m)\n\u001b[0;32m      5\u001b[0m minimum(\u001b[38;5;241m88\u001b[39m, \u001b[38;5;241m66\u001b[39m, \u001b[38;5;241m90\u001b[39m, \u001b[38;5;241m55\u001b[39m, \u001b[38;5;241m77\u001b[39m)\n",
      "\u001b[1;31mNameError\u001b[0m: name 'maximum' is not defined"
     ]
    }
   ],
   "source": [
    "marks = {'Andy':88, 'Amy':66, 'James': 90, 'Jules': 55, 'Arthur': 77}\n",
    "for grade in marks.values():\n",
    "    print(grade)\n",
    "maximum(88, 66, 90, 55, 77)\n",
    "minimum(88, 66, 90, 55, 77)"
   ]
  },
  {
   "cell_type": "code",
   "execution_count": 69,
   "id": "82777c27",
   "metadata": {},
   "outputs": [
    {
     "name": "stdout",
     "output_type": "stream",
     "text": [
      "Andy\n",
      "Amy\n"
     ]
    }
   ],
   "source": [
    "marks = {'Andy':88, 'Amy':66, 'James': 90, 'Jules': 55, 'Arthur': 77}\n",
    "for names in marks.keys():\n",
    "    if \"J\" in names:\n",
    "        break\n",
    "    print(names)"
   ]
  },
  {
   "cell_type": "code",
   "execution_count": 97,
   "id": "159dac3e",
   "metadata": {},
   "outputs": [
    {
     "ename": "SyntaxError",
     "evalue": "invalid syntax (2346694278.py, line 6)",
     "output_type": "error",
     "traceback": [
      "\u001b[1;36m  Input \u001b[1;32mIn [97]\u001b[1;36m\u001b[0m\n\u001b[1;33m    if no \"J\" in names:\u001b[0m\n\u001b[1;37m          ^\u001b[0m\n\u001b[1;31mSyntaxError\u001b[0m\u001b[1;31m:\u001b[0m invalid syntax\n"
     ]
    }
   ],
   "source": [
    "marks = {'Andy':88, 'Amy':66, 'James': 90, 'Jules': 55, 'Arthur': 77}\n",
    "for names in marks.keys():\n",
    "    if \"J\" in names:\n",
    "        break\n",
    "    print(names)"
   ]
  },
  {
   "cell_type": "code",
   "execution_count": 91,
   "id": "9a109ab7",
   "metadata": {},
   "outputs": [],
   "source": [
    "import math"
   ]
  },
  {
   "cell_type": "code",
   "execution_count": null,
   "id": "8d825d08",
   "metadata": {},
   "outputs": [],
   "source": []
  }
 ],
 "metadata": {
  "kernelspec": {
   "display_name": "Python 3 (ipykernel)",
   "language": "python",
   "name": "python3"
  },
  "language_info": {
   "codemirror_mode": {
    "name": "ipython",
    "version": 3
   },
   "file_extension": ".py",
   "mimetype": "text/x-python",
   "name": "python",
   "nbconvert_exporter": "python",
   "pygments_lexer": "ipython3",
   "version": "3.9.12"
  }
 },
 "nbformat": 4,
 "nbformat_minor": 5
}
