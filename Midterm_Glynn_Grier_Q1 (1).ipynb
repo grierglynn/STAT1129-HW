{
 "cells": [
  {
   "cell_type": "code",
   "execution_count": 23,
   "id": "e7cf2b2b",
   "metadata": {},
   "outputs": [
    {
     "data": {
      "text/html": [
       "<div>\n",
       "<style scoped>\n",
       "    .dataframe tbody tr th:only-of-type {\n",
       "        vertical-align: middle;\n",
       "    }\n",
       "\n",
       "    .dataframe tbody tr th {\n",
       "        vertical-align: top;\n",
       "    }\n",
       "\n",
       "    .dataframe thead th {\n",
       "        text-align: right;\n",
       "    }\n",
       "</style>\n",
       "<table border=\"1\" class=\"dataframe\">\n",
       "  <thead>\n",
       "    <tr style=\"text-align: right;\">\n",
       "      <th></th>\n",
       "      <th></th>\n",
       "      <th></th>\n",
       "      <th></th>\n",
       "      <th>2</th>\n",
       "      <th>4</th>\n",
       "      <th>6</th>\n",
       "      <th>8</th>\n",
       "      <th>4.1</th>\n",
       "      <th>5</th>\n",
       "      <th>2.1</th>\n",
       "      <th>1</th>\n",
       "      <th>9</th>\n",
       "      <th>0</th>\n",
       "      <th>...</th>\n",
       "      <th>2.3</th>\n",
       "      <th>3.3</th>\n",
       "      <th>6.4</th>\n",
       "      <th>8.2</th>\n",
       "      <th>9.4</th>\n",
       "      <th>10.2</th>\n",
       "      <th>6.5</th>\n",
       "      <th>7.3</th>\n",
       "      <th>4.4</th>\n",
       "      <th>3.4</th>\n",
       "    </tr>\n",
       "  </thead>\n",
       "  <tbody>\n",
       "    <tr>\n",
       "      <th>2</th>\n",
       "      <th>1</th>\n",
       "      <th>9</th>\n",
       "      <th>10</th>\n",
       "      <td>3</td>\n",
       "      <td>7</td>\n",
       "      <td>9</td>\n",
       "      <td>6</td>\n",
       "      <td>0</td>\n",
       "      <td>1</td>\n",
       "      <td>3</td>\n",
       "      <td>5</td>\n",
       "      <td>6</td>\n",
       "      <td>7</td>\n",
       "      <td>...</td>\n",
       "      <td>4.0</td>\n",
       "      <td>3.0</td>\n",
       "      <td>2.0</td>\n",
       "      <td>1.0</td>\n",
       "      <td>9.0</td>\n",
       "      <td>10.0</td>\n",
       "      <td>3.0</td>\n",
       "      <td>7.0</td>\n",
       "      <td>9.0</td>\n",
       "      <td>6.0</td>\n",
       "    </tr>\n",
       "    <tr>\n",
       "      <th>4</th>\n",
       "      <th>5</th>\n",
       "      <th>2</th>\n",
       "      <th>1</th>\n",
       "      <td>9</td>\n",
       "      <td>0</td>\n",
       "      <td>4</td>\n",
       "      <td>6</td>\n",
       "      <td>7</td>\n",
       "      <td>4</td>\n",
       "      <td>3</td>\n",
       "      <td>2</td>\n",
       "      <td>1</td>\n",
       "      <td>9</td>\n",
       "      <td>...</td>\n",
       "      <td>4.0</td>\n",
       "      <td>3.0</td>\n",
       "      <td>6.0</td>\n",
       "      <td>8.0</td>\n",
       "      <td>4.0</td>\n",
       "      <td>5.0</td>\n",
       "      <td>2.0</td>\n",
       "      <td>NaN</td>\n",
       "      <td>NaN</td>\n",
       "      <td>NaN</td>\n",
       "    </tr>\n",
       "    <tr>\n",
       "      <th>10</th>\n",
       "      <th>3</th>\n",
       "      <th>7</th>\n",
       "      <th>9</th>\n",
       "      <td>6</td>\n",
       "      <td>0</td>\n",
       "      <td>1</td>\n",
       "      <td>3</td>\n",
       "      <td>5</td>\n",
       "      <td>6</td>\n",
       "      <td>7</td>\n",
       "      <td>8</td>\n",
       "      <td>9</td>\n",
       "      <td>10</td>\n",
       "      <td>...</td>\n",
       "      <td>NaN</td>\n",
       "      <td>NaN</td>\n",
       "      <td>NaN</td>\n",
       "      <td>NaN</td>\n",
       "      <td>NaN</td>\n",
       "      <td>NaN</td>\n",
       "      <td>NaN</td>\n",
       "      <td>NaN</td>\n",
       "      <td>NaN</td>\n",
       "      <td>NaN</td>\n",
       "    </tr>\n",
       "    <tr>\n",
       "      <th>2</th>\n",
       "      <th>4</th>\n",
       "      <th>6</th>\n",
       "      <th>8</th>\n",
       "      <td>4</td>\n",
       "      <td>5</td>\n",
       "      <td>2</td>\n",
       "      <td>1</td>\n",
       "      <td>9</td>\n",
       "      <td>0</td>\n",
       "      <td>4</td>\n",
       "      <td>6</td>\n",
       "      <td>7</td>\n",
       "      <td>4</td>\n",
       "      <td>...</td>\n",
       "      <td>NaN</td>\n",
       "      <td>NaN</td>\n",
       "      <td>NaN</td>\n",
       "      <td>NaN</td>\n",
       "      <td>NaN</td>\n",
       "      <td>NaN</td>\n",
       "      <td>NaN</td>\n",
       "      <td>NaN</td>\n",
       "      <td>NaN</td>\n",
       "      <td>NaN</td>\n",
       "    </tr>\n",
       "  </tbody>\n",
       "</table>\n",
       "<p>4 rows × 42 columns</p>\n",
       "</div>"
      ],
      "text/plain": [
       "           2  4  6  8  4.1  5  2.1  1  9   0  ...  2.3  3.3  6.4  8.2  9.4  \\\n",
       "2  1 9 10  3  7  9  6    0  1    3  5  6   7  ...  4.0  3.0  2.0  1.0  9.0   \n",
       "4  5 2 1   9  0  4  6    7  4    3  2  1   9  ...  4.0  3.0  6.0  8.0  4.0   \n",
       "10 3 7 9   6  0  1  3    5  6    7  8  9  10  ...  NaN  NaN  NaN  NaN  NaN   \n",
       "2  4 6 8   4  5  2  1    9  0    4  6  7   4  ...  NaN  NaN  NaN  NaN  NaN   \n",
       "\n",
       "           10.2  6.5  7.3  4.4  3.4  \n",
       "2  1 9 10  10.0  3.0  7.0  9.0  6.0  \n",
       "4  5 2 1    5.0  2.0  NaN  NaN  NaN  \n",
       "10 3 7 9    NaN  NaN  NaN  NaN  NaN  \n",
       "2  4 6 8    NaN  NaN  NaN  NaN  NaN  \n",
       "\n",
       "[4 rows x 42 columns]"
      ]
     },
     "execution_count": 23,
     "metadata": {},
     "output_type": "execute_result"
    }
   ],
   "source": [
    "import pandas as pd\n",
    "df= pd.read_csv('numbers.txt')\n",
    "df.head()"
   ]
  },
  {
   "cell_type": "code",
   "execution_count": 28,
   "id": "b2c2a37e",
   "metadata": {},
   "outputs": [
    {
     "name": "stdout",
     "output_type": "stream",
     "text": [
      " 2 :  19\n",
      " 4 :  22\n",
      " 6 :  26\n",
      " 8 :  13\n",
      " 5 :  10\n",
      " 1 :  14\n",
      " 9 :  24\n",
      " 0 :  9\n",
      " 7 :  17\n",
      " 3 :  20\n",
      " 10 :  14\n"
     ]
    }
   ],
   "source": [
    "numbers_='numbers.txt'\n",
    "def FrequencyList(numbers_):\n",
    "    freq={}\n",
    "    for items in numbers_:\n",
    "        freq[items]= numbers_.count(items)\n",
    "    for key, value in freq.items():\n",
    "        print(\"% d : % d\"%(key, value))\n",
    "if __name__== \"__main__\":\n",
    "    numbers_ = [2,4,6,8,4,5,2,1,9,0,4,6,7,4,3,2,1,9,10,3,7,9,6,0,1,3,5,6,7,8,9,10,2,3,6,8,9,10,6,7,4,3,\n",
    "2,1,9,10,3,7,9,6,0,1,3,5,6,7,8,9,10,2,3,6,8,9,10,2,4,6,8,4,5,2,1,9,0,4,6,7,4,3,2,1,9,10,3,7,9,6,\n",
    "4,5,2,1,9,0,4,6,7,4,3,2,1,9,10,3,7,9,6,0,1,3,5,6,7,8,9,10,2,3,6,8,9,10,6,7,4,3,6,8,4,5,2,\n",
    "10,3,7,9,6,0,1,3,5,6,7,8,9,10,2,3,6,8,9,10,2,4,6,8,4,5,2,1,9,0,4,6,7,4,\n",
    "2,4,6,8,4,5,2,1,9,0,4,6,7,4,3,2,1,9,10,3,7,9,6]\n",
    "    FrequencyList(numbers_)\n"
   ]
  },
  {
   "cell_type": "code",
   "execution_count": 32,
   "id": "82631aa4",
   "metadata": {
    "scrolled": true
   },
   "outputs": [
    {
     "data": {
      "image/png": "[encoded data removed]",
      "text/plain": [
       "<Figure size 432x288 with 1 Axes>"
      ]
     },
     "metadata": {
      "needs_background": "light"
     },
     "output_type": "display_data"
    }
   ],
   "source": [
    "import matplotlib.pyplot as plt\n",
    "import numpy as np\n",
    "plt.hist(numbers_)\n",
    "plt.show()"
   ]
  },
  {
   "cell_type": "code",
   "execution_count": 36,
   "id": "5e14c31c",
   "metadata": {},
   "outputs": [
    {
     "name": "stdout",
     "output_type": "stream",
     "text": [
      "[2, 4, 6, 8, 4, 5, 2, 1, 9, 0, 4, 6, 7, 4, 3, 2, 1, 9, 10, 3, 7, 9, 6, 0, 1, 3, 5, 6, 7, 8, 9, 10, 2, 3, 6, 8, 9, 10, 6, 7, 4, 3, 2, 1, 9, 10, 3, 7, 9, 6, 0, 1, 3, 5, 6, 7, 8, 9, 10, 2, 3, 6, 8, 9, 10, 2, 4, 6, 8, 4, 5, 2, 1, 9, 0, 4, 6, 7, 4, 3, 2, 1, 9, 10, 3, 7, 9, 6, 4, 5, 2, 1, 9, 0, 4, 6, 7, 4, 3, 2, 1, 9, 10, 3, 7, 9, 6, 0, 1, 3, 5, 6, 7, 8, 9, 10, 2, 3, 6, 8, 9, 10, 6, 7, 4, 3, 6, 8, 4, 5, 2, 10, 3, 7, 9, 6, 0, 1, 3, 5, 6, 7, 8, 9, 10, 2, 3, 6, 8, 9, 10, 2, 4, 6, 8, 4, 5, 2, 1, 9, 0, 4, 6, 7, 4, 2, 4, 6, 8, 4, 5, 2, 1, 9, 0, 4, 6, 7, 4, 3, 2, 1, 9, 10, 3, 7, 9, 6]\n"
     ]
    }
   ],
   "source": [
    "import json\n",
    "y=json.dumps(numbers_)\n",
    "print(y)"
   ]
  }
 ],
 "metadata": {
  "kernelspec": {
   "display_name": "Python 3 (ipykernel)",
   "language": "python",
   "name": "python3"
  },
  "language_info": {
   "codemirror_mode": {
    "name": "ipython",
    "version": 3
   },
   "file_extension": ".py",
   "mimetype": "text/x-python",
   "name": "python",
   "nbconvert_exporter": "python",
   "pygments_lexer": "ipython3",
   "version": "3.9.12"
  }
 },
 "nbformat": 4,
 "nbformat_minor": 5
}
