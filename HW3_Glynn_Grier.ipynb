{
 "cells": [
  {
   "cell_type": "code",
   "execution_count": 124,
   "id": "9f5e64ae",
   "metadata": {},
   "outputs": [
    {
     "name": "stdout",
     "output_type": "stream",
     "text": [
      "90\n"
     ]
    }
   ],
   "source": [
    "marks = {'Andy':88, 'Amy':66, 'James': 90, 'Jules': 55, 'Arthur': 77}\n",
    "def grade(name):\n",
    "    for names, grades in marks.items():\n",
    "        if name == names:\n",
    "            return grades\n",
    "    return \"student does not exist\"\n",
    "print(grade('James'))"
   ]
  },
  {
   "cell_type": "code",
   "execution_count": 105,
   "id": "243588e7",
   "metadata": {},
   "outputs": [
    {
     "name": "stdout",
     "output_type": "stream",
     "text": [
      "75.2\n"
     ]
    }
   ],
   "source": [
    "marks = {'Andy':88, 'Amy':66, 'James': 90, 'Jules': 55, 'Arthur': 77}\n",
    "def average(grade):\n",
    "    total=0\n",
    "    for grades in marks.values():\n",
    "        total+=grades\n",
    "    return total/len(marks)\n",
    "print(average(marks.values))"
   ]
  },
  {
   "cell_type": "code",
   "execution_count": 80,
   "id": "d1c51cbe",
   "metadata": {},
   "outputs": [],
   "source": [
    "import math"
   ]
  },
  {
   "cell_type": "code",
   "execution_count": 126,
   "id": "7ce65527",
   "metadata": {},
   "outputs": [
    {
     "name": "stdout",
     "output_type": "stream",
     "text": [
      "1\n",
      "2\n",
      "3\n",
      "4\n",
      "5\n"
     ]
    }
   ],
   "source": [
    "def numbers(nums):\n",
    "    sum=0\n",
    "    for i in range(1, nums):\n",
    "        sum=sum+1\n",
    "        print(sum)\n",
    "numbers(6)"
   ]
  },
  {
   "cell_type": "code",
   "execution_count": 136,
   "id": "8bd22a59",
   "metadata": {},
   "outputs": [],
   "source": [
    "import statistics\n",
    "import math\n",
    "def adding_numbers():\n",
    "    list1=[*range(1,100,1)]\n",
    "    statistics.mean(list1)\n",
    "    statistics.stdev(list1)\n",
    "    math.fsum(list1)\n",
    "    print(statistics.mean(list1))\n",
    "    print(statistics.stdev(list1))\n",
    "    print(math.fsum(list1))\n",
    "   "
   ]
  },
  {
   "cell_type": "code",
   "execution_count": 135,
   "id": "8c6de200",
   "metadata": {},
   "outputs": [
    {
     "name": "stdout",
     "output_type": "stream",
     "text": [
      "4\n"
     ]
    }
   ],
   "source": [
    "def minimal(v1, v2, v3, v4):\n",
    "    x=min(v1, v2, v3, v4)\n",
    "    print(x)\n",
    "minimal(7, 9, 12, 4)"
   ]
  },
  {
   "cell_type": "code",
   "execution_count": 139,
   "id": "14b6f548",
   "metadata": {},
   "outputs": [
    {
     "name": "stdout",
     "output_type": "stream",
     "text": [
      "The ball is pink and bouncy.\n"
     ]
    }
   ],
   "source": [
    "def string1():\n",
    "    a = 'The ball '\n",
    "    b= 'is pink '\n",
    "    c= 'and bouncy.'\n",
    "    print(a+b+c)\n",
    "string1()"
   ]
  }
 ],
 "metadata": {
  "kernelspec": {
   "display_name": "Python 3 (ipykernel)",
   "language": "python",
   "name": "python3"
  },
  "language_info": {
   "codemirror_mode": {
    "name": "ipython",
    "version": 3
   },
   "file_extension": ".py",
   "mimetype": "text/x-python",
   "name": "python",
   "nbconvert_exporter": "python",
   "pygments_lexer": "ipython3",
   "version": "3.9.12"
  }
 },
 "nbformat": 4,
 "nbformat_minor": 5
}
