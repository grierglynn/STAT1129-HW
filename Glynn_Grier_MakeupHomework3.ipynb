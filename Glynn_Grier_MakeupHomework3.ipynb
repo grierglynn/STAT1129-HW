{
 "cells": [
  {
   "cell_type": "code",
   "execution_count": 4,
   "id": "c4236686",
   "metadata": {},
   "outputs": [
    {
     "name": "stdout",
     "output_type": "stream",
     "text": [
      "2\n",
      "brown\n",
      "John 24 brown\n"
     ]
    }
   ],
   "source": [
    "class Human:\n",
    "    class_attribute_1_number_of_eyes= 2\n",
    "    class_attribute_2_has_a_nose= True\n",
    "    class_attribute_3_number_of_legs= 2\n",
    "    class_attribute_4_number_of_arms= 2\n",
    "    \n",
    "    def __init__(self, age, name, haircolor, eyecolor):\n",
    "        self.age= age\n",
    "        self.name= name\n",
    "        self.haircolor= haircolor\n",
    "        self.eyecolor= eyecolor\n",
    "Amy= Human(age= 30, name= \"Amy\", haircolor= \"brown\", eyecolor= \"blue\")\n",
    "print(Amy.class_attribute_1_number_of_eyes)\n",
    "print(Amy.haircolor)\n",
    "John= Human(age= 24, name= \"John\", haircolor= \"black\", eyecolor= \"brown\")\n",
    "print(John.name, John.age, John.eyecolor)"
   ]
  }
 ],
 "metadata": {
  "kernelspec": {
   "display_name": "Python 3 (ipykernel)",
   "language": "python",
   "name": "python3"
  },
  "language_info": {
   "codemirror_mode": {
    "name": "ipython",
    "version": 3
   },
   "file_extension": ".py",
   "mimetype": "text/x-python",
   "name": "python",
   "nbconvert_exporter": "python",
   "pygments_lexer": "ipython3",
   "version": "3.9.12"
  }
 },
 "nbformat": 4,
 "nbformat_minor": 5
}
