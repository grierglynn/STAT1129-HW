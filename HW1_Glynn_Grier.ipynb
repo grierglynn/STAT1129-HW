{
 "cells": [
  {
   "cell_type": "code",
   "execution_count": null,
   "id": "794b1939",
   "metadata": {},
   "outputs": [],
   "source": [
    "# question 1:"
   ]
  },
  {
   "cell_type": "code",
   "execution_count": 33,
   "id": "6e3bf510",
   "metadata": {},
   "outputs": [
    {
     "name": "stdout",
     "output_type": "stream",
     "text": [
      "[30, 35, 40, 45, 50, 55, 60]\n"
     ]
    }
   ],
   "source": [
    "numbers= list(range(30,65, 5))\n",
    "print(numbers)\n",
    "numbers.reverse()"
   ]
  },
  {
   "cell_type": "code",
   "execution_count": 34,
   "id": "ef906a93",
   "metadata": {
    "scrolled": true
   },
   "outputs": [
    {
     "name": "stdout",
     "output_type": "stream",
     "text": [
      "[60, 55, 50, 45, 40, 35, 30]\n"
     ]
    }
   ],
   "source": [
    "print(numbers)"
   ]
  },
  {
   "cell_type": "code",
   "execution_count": 36,
   "id": "5d6974aa",
   "metadata": {},
   "outputs": [
    {
     "name": "stdout",
     "output_type": "stream",
     "text": [
      "[65, 60, 55, 50, 45, 40, 35, 30]\n"
     ]
    }
   ],
   "source": [
    "numbers.insert(0, 65)\n",
    "print(numbers)"
   ]
  },
  {
   "cell_type": "code",
   "execution_count": null,
   "id": "61d5126a",
   "metadata": {},
   "outputs": [],
   "source": [
    "## question 2:"
   ]
  },
  {
   "cell_type": "code",
   "execution_count": 78,
   "id": "f0c3d9a8",
   "metadata": {},
   "outputs": [
    {
     "name": "stdout",
     "output_type": "stream",
     "text": [
      "[]\n"
     ]
    }
   ],
   "source": [
    "list1=[]\n",
    "print(list1)"
   ]
  },
  {
   "cell_type": "code",
   "execution_count": 79,
   "id": "89a8be96",
   "metadata": {},
   "outputs": [
    {
     "name": "stdout",
     "output_type": "stream",
     "text": [
      "[0, 1, 2, 3, 4, 5, 6, 7, 8, 9, 10, 11, 12, 13, 14, 15, 16, 17, 18, 19, 20]\n"
     ]
    }
   ],
   "source": [
    "for number in range (0, 21):\n",
    "    list1 += [number]\n",
    "print(list1)"
   ]
  },
  {
   "cell_type": "code",
   "execution_count": 80,
   "id": "2ec9e332",
   "metadata": {},
   "outputs": [],
   "source": [
    "list1.remove(0)"
   ]
  },
  {
   "cell_type": "code",
   "execution_count": 81,
   "id": "dfd4db79",
   "metadata": {},
   "outputs": [
    {
     "name": "stdout",
     "output_type": "stream",
     "text": [
      "[1, 2, 3, 4, 5, 6, 7, 8, 9, 10, 11, 12, 13, 14, 15, 16, 17, 18, 19, 20]\n"
     ]
    }
   ],
   "source": [
    "print(list1)"
   ]
  },
  {
   "cell_type": "code",
   "execution_count": null,
   "id": "fccbf97c",
   "metadata": {},
   "outputs": [],
   "source": []
  },
  {
   "cell_type": "code",
   "execution_count": 83,
   "id": "0c142449",
   "metadata": {},
   "outputs": [
    {
     "data": {
      "text/plain": [
       "210"
      ]
     },
     "execution_count": 83,
     "metadata": {},
     "output_type": "execute_result"
    }
   ],
   "source": [
    "sum(list1)"
   ]
  },
  {
   "cell_type": "code",
   "execution_count": null,
   "id": "6dd76f5f",
   "metadata": {},
   "outputs": [],
   "source": [
    "## question 3"
   ]
  },
  {
   "cell_type": "code",
   "execution_count": 102,
   "id": "8381f98d",
   "metadata": {},
   "outputs": [
    {
     "name": "stdout",
     "output_type": "stream",
     "text": [
      "{'Sunny': 'play', 'Rainy': 'watch TV', 'Cloudy': 'walk'}\n"
     ]
    }
   ],
   "source": [
    "weather ={\"Sunny\": \"play\", \"Rainy\": \"watch TV\", \"Cloudy\": \"walk\"}\n",
    "print(weather)"
   ]
  },
  {
   "cell_type": "code",
   "execution_count": 125,
   "id": "5bcc5220",
   "metadata": {},
   "outputs": [
    {
     "name": "stdout",
     "output_type": "stream",
     "text": [
      "Sunny\n",
      "Rainy\n",
      "Cloudy\n"
     ]
    }
   ],
   "source": [
    "for key in weather.keys():\n",
    "    print(key)"
   ]
  },
  {
   "cell_type": "code",
   "execution_count": 126,
   "id": "dfec8ffe",
   "metadata": {},
   "outputs": [
    {
     "name": "stdout",
     "output_type": "stream",
     "text": [
      "play\n",
      "watch TV\n",
      "walk\n"
     ]
    }
   ],
   "source": [
    "for value in weather.values():\n",
    "    print(value)"
   ]
  },
  {
   "cell_type": "code",
   "execution_count": 140,
   "id": "b0460f8a",
   "metadata": {},
   "outputs": [
    {
     "name": "stdout",
     "output_type": "stream",
     "text": [
      "When Sunny , let us play\n",
      "When Rainy , let us watch TV\n",
      "When Cloudy , let us walk\n",
      "When Snowy , let us ski\n"
     ]
    }
   ],
   "source": [
    "for key, value in weather.items():\n",
    "    print(\"When\", key, \", let us\", value)"
   ]
  },
  {
   "cell_type": "code",
   "execution_count": 138,
   "id": "428caa80",
   "metadata": {},
   "outputs": [],
   "source": [
    "weather.update({\"Snowy\": \"ski\"})"
   ]
  },
  {
   "cell_type": "code",
   "execution_count": 141,
   "id": "65063526",
   "metadata": {},
   "outputs": [
    {
     "name": "stdout",
     "output_type": "stream",
     "text": [
      "{'Sunny': 'play', 'Rainy': 'watch TV', 'Cloudy': 'walk', 'Snowy': 'ski'}\n"
     ]
    }
   ],
   "source": [
    "print(weather)\n",
    "\n"
   ]
  }
 ],
 "metadata": {
  "kernelspec": {
   "display_name": "Python 3 (ipykernel)",
   "language": "python",
   "name": "python3"
  },
  "language_info": {
   "codemirror_mode": {
    "name": "ipython",
    "version": 3
   },
   "file_extension": ".py",
   "mimetype": "text/x-python",
   "name": "python",
   "nbconvert_exporter": "python",
   "pygments_lexer": "ipython3",
   "version": "3.9.12"
  }
 },
 "nbformat": 4,
 "nbformat_minor": 5
}
